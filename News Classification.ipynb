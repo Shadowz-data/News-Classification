{
 "cells": [
  {
   "cell_type": "markdown",
   "metadata": {},
   "source": [
    "-------------------"
   ]
  },
  {
   "cell_type": "markdown",
   "metadata": {},
   "source": [
    "<p style=\"font-family:'Candara'; font-size:35px; text-align: center; color: #272D2D\"> Fake & Real News Classification (NLP)</p> "
   ]
  },
  {
   "cell_type": "markdown",
   "metadata": {},
   "source": [
    "-------------------"
   ]
  },
  {
   "cell_type": "markdown",
   "metadata": {},
   "source": [
    "Importing Libraries"
   ]
  },
  {
   "cell_type": "code",
   "execution_count": 1,
   "metadata": {},
   "outputs": [],
   "source": [
    "import pandas as pd\n",
    "import matplotlib.pyplot as plt\n",
    "import seaborn as sns\n",
    "import missingno as msno\n",
    "import numpy as np\n",
    "from sklearn.model_selection import train_test_split\n",
    "from sklearn.feature_extraction.text import CountVectorizer\n",
    "from sklearn.feature_extraction.text import TfidfTransformer\n",
    "from sklearn import feature_extraction, linear_model, model_selection, preprocessing\n",
    "from sklearn.metrics import accuracy_score\n",
    "from sklearn.model_selection import train_test_split\n",
    "from sklearn.pipeline import Pipeline"
   ]
  },
  {
   "cell_type": "markdown",
   "metadata": {},
   "source": [
    "------------"
   ]
  },
  {
   "cell_type": "markdown",
   "metadata": {},
   "source": [
    "Importing Data"
   ]
  },
  {
   "cell_type": "code",
   "execution_count": 2,
   "metadata": {},
   "outputs": [
    {
     "data": {
      "text/html": [
       "<div>\n",
       "<style scoped>\n",
       "    .dataframe tbody tr th:only-of-type {\n",
       "        vertical-align: middle;\n",
       "    }\n",
       "\n",
       "    .dataframe tbody tr th {\n",
       "        vertical-align: top;\n",
       "    }\n",
       "\n",
       "    .dataframe thead th {\n",
       "        text-align: right;\n",
       "    }\n",
       "</style>\n",
       "<table border=\"1\" class=\"dataframe\">\n",
       "  <thead>\n",
       "    <tr style=\"text-align: right;\">\n",
       "      <th></th>\n",
       "      <th>title</th>\n",
       "      <th>text</th>\n",
       "      <th>subject</th>\n",
       "      <th>date</th>\n",
       "      <th>news_integrity</th>\n",
       "    </tr>\n",
       "  </thead>\n",
       "  <tbody>\n",
       "    <tr>\n",
       "      <th>0</th>\n",
       "      <td>FLASHBACK: KING OBAMA COMMUTES SENTENCES OF 22...</td>\n",
       "      <td>Just making room for Hillary President Obama t...</td>\n",
       "      <td>politics</td>\n",
       "      <td>31-Mar-15</td>\n",
       "      <td>False</td>\n",
       "    </tr>\n",
       "    <tr>\n",
       "      <th>1</th>\n",
       "      <td>APPLE’S CEO SAYS RELIGIOUS FREEDOM LAWS ARE ‘D...</td>\n",
       "      <td>The gay mafia has a new corporate  Don. This i...</td>\n",
       "      <td>politics</td>\n",
       "      <td>31-Mar-15</td>\n",
       "      <td>False</td>\n",
       "    </tr>\n",
       "    <tr>\n",
       "      <th>2</th>\n",
       "      <td>WATCH DIRTY HARRY REID ON HIS LIE ABOUT ROMNEY...</td>\n",
       "      <td>In case you missed it Sen. Harry Reid (R-NV), ...</td>\n",
       "      <td>politics</td>\n",
       "      <td>31-Mar-15</td>\n",
       "      <td>False</td>\n",
       "    </tr>\n",
       "    <tr>\n",
       "      <th>3</th>\n",
       "      <td>OH NO! GUESS WHO FUNDED THE SHRINE TO TED KENNEDY</td>\n",
       "      <td>Nothing like political cronyism to make your s...</td>\n",
       "      <td>politics</td>\n",
       "      <td>31-Mar-15</td>\n",
       "      <td>False</td>\n",
       "    </tr>\n",
       "    <tr>\n",
       "      <th>4</th>\n",
       "      <td>BENGHAZI PANEL CALLS HILLARY TO TESTIFY UNDER ...</td>\n",
       "      <td>Does anyone really think Hillary Clinton will ...</td>\n",
       "      <td>politics</td>\n",
       "      <td>31-Mar-15</td>\n",
       "      <td>False</td>\n",
       "    </tr>\n",
       "  </tbody>\n",
       "</table>\n",
       "</div>"
      ],
      "text/plain": [
       "                                               title  \\\n",
       "0  FLASHBACK: KING OBAMA COMMUTES SENTENCES OF 22...   \n",
       "1  APPLE’S CEO SAYS RELIGIOUS FREEDOM LAWS ARE ‘D...   \n",
       "2  WATCH DIRTY HARRY REID ON HIS LIE ABOUT ROMNEY...   \n",
       "3  OH NO! GUESS WHO FUNDED THE SHRINE TO TED KENNEDY   \n",
       "4  BENGHAZI PANEL CALLS HILLARY TO TESTIFY UNDER ...   \n",
       "\n",
       "                                                text   subject       date  \\\n",
       "0  Just making room for Hillary President Obama t...  politics  31-Mar-15   \n",
       "1  The gay mafia has a new corporate  Don. This i...  politics  31-Mar-15   \n",
       "2  In case you missed it Sen. Harry Reid (R-NV), ...  politics  31-Mar-15   \n",
       "3  Nothing like political cronyism to make your s...  politics  31-Mar-15   \n",
       "4  Does anyone really think Hillary Clinton will ...  politics  31-Mar-15   \n",
       "\n",
       "   news_integrity  \n",
       "0           False  \n",
       "1           False  \n",
       "2           False  \n",
       "3           False  \n",
       "4           False  "
      ]
     },
     "execution_count": 2,
     "metadata": {},
     "output_type": "execute_result"
    }
   ],
   "source": [
    "news = pd.read_csv(\"news.csv\", index_col=False)\n",
    "news.head()"
   ]
  },
  {
   "cell_type": "markdown",
   "metadata": {},
   "source": [
    "Removing date column"
   ]
  },
  {
   "cell_type": "code",
   "execution_count": 3,
   "metadata": {
    "scrolled": true
   },
   "outputs": [
    {
     "data": {
      "text/html": [
       "<div>\n",
       "<style scoped>\n",
       "    .dataframe tbody tr th:only-of-type {\n",
       "        vertical-align: middle;\n",
       "    }\n",
       "\n",
       "    .dataframe tbody tr th {\n",
       "        vertical-align: top;\n",
       "    }\n",
       "\n",
       "    .dataframe thead th {\n",
       "        text-align: right;\n",
       "    }\n",
       "</style>\n",
       "<table border=\"1\" class=\"dataframe\">\n",
       "  <thead>\n",
       "    <tr style=\"text-align: right;\">\n",
       "      <th></th>\n",
       "      <th>title</th>\n",
       "      <th>text</th>\n",
       "      <th>subject</th>\n",
       "      <th>news_integrity</th>\n",
       "    </tr>\n",
       "  </thead>\n",
       "  <tbody>\n",
       "    <tr>\n",
       "      <th>0</th>\n",
       "      <td>FLASHBACK: KING OBAMA COMMUTES SENTENCES OF 22...</td>\n",
       "      <td>Just making room for Hillary President Obama t...</td>\n",
       "      <td>politics</td>\n",
       "      <td>False</td>\n",
       "    </tr>\n",
       "    <tr>\n",
       "      <th>1</th>\n",
       "      <td>APPLE’S CEO SAYS RELIGIOUS FREEDOM LAWS ARE ‘D...</td>\n",
       "      <td>The gay mafia has a new corporate  Don. This i...</td>\n",
       "      <td>politics</td>\n",
       "      <td>False</td>\n",
       "    </tr>\n",
       "    <tr>\n",
       "      <th>2</th>\n",
       "      <td>WATCH DIRTY HARRY REID ON HIS LIE ABOUT ROMNEY...</td>\n",
       "      <td>In case you missed it Sen. Harry Reid (R-NV), ...</td>\n",
       "      <td>politics</td>\n",
       "      <td>False</td>\n",
       "    </tr>\n",
       "    <tr>\n",
       "      <th>3</th>\n",
       "      <td>OH NO! GUESS WHO FUNDED THE SHRINE TO TED KENNEDY</td>\n",
       "      <td>Nothing like political cronyism to make your s...</td>\n",
       "      <td>politics</td>\n",
       "      <td>False</td>\n",
       "    </tr>\n",
       "    <tr>\n",
       "      <th>4</th>\n",
       "      <td>BENGHAZI PANEL CALLS HILLARY TO TESTIFY UNDER ...</td>\n",
       "      <td>Does anyone really think Hillary Clinton will ...</td>\n",
       "      <td>politics</td>\n",
       "      <td>False</td>\n",
       "    </tr>\n",
       "  </tbody>\n",
       "</table>\n",
       "</div>"
      ],
      "text/plain": [
       "                                               title  \\\n",
       "0  FLASHBACK: KING OBAMA COMMUTES SENTENCES OF 22...   \n",
       "1  APPLE’S CEO SAYS RELIGIOUS FREEDOM LAWS ARE ‘D...   \n",
       "2  WATCH DIRTY HARRY REID ON HIS LIE ABOUT ROMNEY...   \n",
       "3  OH NO! GUESS WHO FUNDED THE SHRINE TO TED KENNEDY   \n",
       "4  BENGHAZI PANEL CALLS HILLARY TO TESTIFY UNDER ...   \n",
       "\n",
       "                                                text   subject  news_integrity  \n",
       "0  Just making room for Hillary President Obama t...  politics           False  \n",
       "1  The gay mafia has a new corporate  Don. This i...  politics           False  \n",
       "2  In case you missed it Sen. Harry Reid (R-NV), ...  politics           False  \n",
       "3  Nothing like political cronyism to make your s...  politics           False  \n",
       "4  Does anyone really think Hillary Clinton will ...  politics           False  "
      ]
     },
     "execution_count": 3,
     "metadata": {},
     "output_type": "execute_result"
    }
   ],
   "source": [
    "news = news[['title', 'text', 'subject','news_integrity']]\n",
    "news.head()"
   ]
  },
  {
   "cell_type": "markdown",
   "metadata": {},
   "source": [
    "--------------"
   ]
  },
  {
   "cell_type": "markdown",
   "metadata": {},
   "source": [
    "Exploratory Data Ana;ysis"
   ]
  },
  {
   "cell_type": "code",
   "execution_count": 4,
   "metadata": {},
   "outputs": [
    {
     "name": "stdout",
     "output_type": "stream",
     "text": [
      "<class 'pandas.core.frame.DataFrame'>\n",
      "RangeIndex: 44867 entries, 0 to 44866\n",
      "Data columns (total 4 columns):\n",
      " #   Column          Non-Null Count  Dtype \n",
      "---  ------          --------------  ----- \n",
      " 0   title           44867 non-null  object\n",
      " 1   text            44867 non-null  object\n",
      " 2   subject         44867 non-null  object\n",
      " 3   news_integrity  44867 non-null  bool  \n",
      "dtypes: bool(1), object(3)\n",
      "memory usage: 1.1+ MB\n"
     ]
    }
   ],
   "source": [
    "news.info()"
   ]
  },
  {
   "cell_type": "code",
   "execution_count": 5,
   "metadata": {},
   "outputs": [
    {
     "data": {
      "text/html": [
       "<div>\n",
       "<style scoped>\n",
       "    .dataframe tbody tr th:only-of-type {\n",
       "        vertical-align: middle;\n",
       "    }\n",
       "\n",
       "    .dataframe tbody tr th {\n",
       "        vertical-align: top;\n",
       "    }\n",
       "\n",
       "    .dataframe thead th {\n",
       "        text-align: right;\n",
       "    }\n",
       "</style>\n",
       "<table border=\"1\" class=\"dataframe\">\n",
       "  <thead>\n",
       "    <tr style=\"text-align: right;\">\n",
       "      <th></th>\n",
       "      <th>title</th>\n",
       "      <th>text</th>\n",
       "      <th>subject</th>\n",
       "      <th>news_integrity</th>\n",
       "    </tr>\n",
       "  </thead>\n",
       "  <tbody>\n",
       "    <tr>\n",
       "      <th>count</th>\n",
       "      <td>44867</td>\n",
       "      <td>44867</td>\n",
       "      <td>44867</td>\n",
       "      <td>44867</td>\n",
       "    </tr>\n",
       "    <tr>\n",
       "      <th>unique</th>\n",
       "      <td>38712</td>\n",
       "      <td>38629</td>\n",
       "      <td>8</td>\n",
       "      <td>2</td>\n",
       "    </tr>\n",
       "    <tr>\n",
       "      <th>top</th>\n",
       "      <td>Factbox: Trump fills top jobs for his administ...</td>\n",
       "      <td></td>\n",
       "      <td>politicsNews</td>\n",
       "      <td>False</td>\n",
       "    </tr>\n",
       "    <tr>\n",
       "      <th>freq</th>\n",
       "      <td>14</td>\n",
       "      <td>627</td>\n",
       "      <td>11272</td>\n",
       "      <td>23450</td>\n",
       "    </tr>\n",
       "  </tbody>\n",
       "</table>\n",
       "</div>"
      ],
      "text/plain": [
       "                                                    title   text  \\\n",
       "count                                               44867  44867   \n",
       "unique                                              38712  38629   \n",
       "top     Factbox: Trump fills top jobs for his administ...          \n",
       "freq                                                   14    627   \n",
       "\n",
       "             subject news_integrity  \n",
       "count          44867          44867  \n",
       "unique             8              2  \n",
       "top     politicsNews          False  \n",
       "freq           11272          23450  "
      ]
     },
     "execution_count": 5,
     "metadata": {},
     "output_type": "execute_result"
    }
   ],
   "source": [
    "news.describe()"
   ]
  },
  {
   "cell_type": "markdown",
   "metadata": {},
   "source": [
    "Checking Missing Values"
   ]
  },
  {
   "cell_type": "code",
   "execution_count": 6,
   "metadata": {},
   "outputs": [
    {
     "data": {
      "text/plain": [
       "title             0\n",
       "text              0\n",
       "subject           0\n",
       "news_integrity    0\n",
       "dtype: int64"
      ]
     },
     "execution_count": 6,
     "metadata": {},
     "output_type": "execute_result"
    }
   ],
   "source": [
    "news.isnull().sum()"
   ]
  },
  {
   "cell_type": "code",
   "execution_count": 7,
   "metadata": {},
   "outputs": [
    {
     "data": {
      "text/plain": [
       "Text(0.5, 1.0, 'Missing Values')"
      ]
     },
     "execution_count": 7,
     "metadata": {},
     "output_type": "execute_result"
    },
    {
     "data": {
      "image/png": "[encoded data removed]",
      "text/plain": [
       "<Figure size 1728x720 with 3 Axes>"
      ]
     },
     "metadata": {},
     "output_type": "display_data"
    }
   ],
   "source": [
    "sns.set_style(\"dark\")\n",
    "msno.bar(news,color=(\"#32cbff\"))\n",
    "plt.title(\"Missing Values\", fontsize = 25)"
   ]
  },
  {
   "cell_type": "code",
   "execution_count": 8,
   "metadata": {},
   "outputs": [
    {
     "data": {
      "text/plain": [
       "(44867, 4)"
      ]
     },
     "execution_count": 8,
     "metadata": {},
     "output_type": "execute_result"
    }
   ],
   "source": [
    "news.shape"
   ]
  },
  {
   "cell_type": "code",
   "execution_count": 9,
   "metadata": {
    "scrolled": true
   },
   "outputs": [
    {
     "data": {
      "text/plain": [
       "False    23450\n",
       "True     21417\n",
       "Name: news_integrity, dtype: int64"
      ]
     },
     "execution_count": 9,
     "metadata": {},
     "output_type": "execute_result"
    }
   ],
   "source": [
    "news.news_integrity.value_counts()"
   ]
  },
  {
   "cell_type": "code",
   "execution_count": 10,
   "metadata": {},
   "outputs": [
    {
     "name": "stdout",
     "output_type": "stream",
     "text": [
      "news_integrity\n",
      "False    23450\n",
      "True     21417\n",
      "Name: text, dtype: int64\n"
     ]
    },
    {
     "data": {
      "image/png": "[encoded data removed]",
      "text/plain": [
       "<Figure size 576x360 with 1 Axes>"
      ]
     },
     "metadata": {},
     "output_type": "display_data"
    }
   ],
   "source": [
    "plt.figure(figsize=(8,5))\n",
    "print(news.groupby([\"news_integrity\"])[\"text\"].count())\n",
    "news.groupby([\"news_integrity\"])[\"text\"].count().plot(kind=\"bar\",color=(\"#32cbff\"))\n",
    "plt.xticks(rotation=0, fontsize = 13)\n",
    "plt.yticks(fontsize = 13)\n",
    "plt.show()"
   ]
  },
  {
   "cell_type": "code",
   "execution_count": 11,
   "metadata": {},
   "outputs": [
    {
     "data": {
      "text/plain": [
       "politicsNews       11272\n",
       "worldnews          10145\n",
       "News                9050\n",
       "politics            6833\n",
       "left-news           4454\n",
       "Government News     1568\n",
       "US_News              775\n",
       "Middle-east          770\n",
       "Name: subject, dtype: int64"
      ]
     },
     "execution_count": 11,
     "metadata": {},
     "output_type": "execute_result"
    }
   ],
   "source": [
    "news.subject.value_counts()"
   ]
  },
  {
   "cell_type": "code",
   "execution_count": 12,
   "metadata": {},
   "outputs": [
    {
     "data": {
      "text/plain": [
       "News               9050\n",
       "politics           6833\n",
       "left-news          4454\n",
       "Government News    1568\n",
       "US_News             775\n",
       "Middle-east         770\n",
       "Name: subject, dtype: int64"
      ]
     },
     "execution_count": 12,
     "metadata": {},
     "output_type": "execute_result"
    }
   ],
   "source": [
    "news[news['news_integrity'] == False].subject.value_counts()"
   ]
  },
  {
   "cell_type": "code",
   "execution_count": 13,
   "metadata": {},
   "outputs": [
    {
     "data": {
      "text/plain": [
       "politicsNews    11272\n",
       "worldnews       10145\n",
       "Name: subject, dtype: int64"
      ]
     },
     "execution_count": 13,
     "metadata": {},
     "output_type": "execute_result"
    }
   ],
   "source": [
    "news[news['news_integrity'] == True].subject.value_counts()"
   ]
  },
  {
   "cell_type": "markdown",
   "metadata": {},
   "source": [
    "---------------------"
   ]
  },
  {
   "cell_type": "code",
   "execution_count": 14,
   "metadata": {},
   "outputs": [
    {
     "data": {
      "text/html": [
       "<div>\n",
       "<style scoped>\n",
       "    .dataframe tbody tr th:only-of-type {\n",
       "        vertical-align: middle;\n",
       "    }\n",
       "\n",
       "    .dataframe tbody tr th {\n",
       "        vertical-align: top;\n",
       "    }\n",
       "\n",
       "    .dataframe thead th {\n",
       "        text-align: right;\n",
       "    }\n",
       "</style>\n",
       "<table border=\"1\" class=\"dataframe\">\n",
       "  <thead>\n",
       "    <tr style=\"text-align: right;\">\n",
       "      <th></th>\n",
       "      <th>title</th>\n",
       "      <th>text</th>\n",
       "      <th>subject</th>\n",
       "      <th>news_integrity</th>\n",
       "    </tr>\n",
       "  </thead>\n",
       "  <tbody>\n",
       "    <tr>\n",
       "      <th>0</th>\n",
       "      <td>In Republican state, Obama talks with worried ...</td>\n",
       "      <td>OMAHA, Neb. (Reuters) - President Barack Obama...</td>\n",
       "      <td>politicsNews</td>\n",
       "      <td>True</td>\n",
       "    </tr>\n",
       "    <tr>\n",
       "      <th>1</th>\n",
       "      <td>South Korea calls for 'bone-numbing' sanctions...</td>\n",
       "      <td>SEOUL (Reuters) - South Korea warned North Kor...</td>\n",
       "      <td>politicsNews</td>\n",
       "      <td>True</td>\n",
       "    </tr>\n",
       "    <tr>\n",
       "      <th>2</th>\n",
       "      <td>U.S. to expand refugee program for Central Ame...</td>\n",
       "      <td>WASHINGTON (Reuters) - The United States will ...</td>\n",
       "      <td>politicsNews</td>\n",
       "      <td>True</td>\n",
       "    </tr>\n",
       "    <tr>\n",
       "      <th>3</th>\n",
       "      <td>Bid to mine more coal on U.S. federal lands te...</td>\n",
       "      <td>WASHINGTON (Reuters) - President Barack Obama’...</td>\n",
       "      <td>politicsNews</td>\n",
       "      <td>True</td>\n",
       "    </tr>\n",
       "    <tr>\n",
       "      <th>4</th>\n",
       "      <td>For Republican Rubio, a moment of truth in rac...</td>\n",
       "      <td>CHARLESTON, S.C. (Reuters) - Long viewed by th...</td>\n",
       "      <td>politicsNews</td>\n",
       "      <td>True</td>\n",
       "    </tr>\n",
       "  </tbody>\n",
       "</table>\n",
       "</div>"
      ],
      "text/plain": [
       "                                               title  \\\n",
       "0  In Republican state, Obama talks with worried ...   \n",
       "1  South Korea calls for 'bone-numbing' sanctions...   \n",
       "2  U.S. to expand refugee program for Central Ame...   \n",
       "3  Bid to mine more coal on U.S. federal lands te...   \n",
       "4  For Republican Rubio, a moment of truth in rac...   \n",
       "\n",
       "                                                text       subject  \\\n",
       "0  OMAHA, Neb. (Reuters) - President Barack Obama...  politicsNews   \n",
       "1  SEOUL (Reuters) - South Korea warned North Kor...  politicsNews   \n",
       "2  WASHINGTON (Reuters) - The United States will ...  politicsNews   \n",
       "3  WASHINGTON (Reuters) - President Barack Obama’...  politicsNews   \n",
       "4  CHARLESTON, S.C. (Reuters) - Long viewed by th...  politicsNews   \n",
       "\n",
       "   news_integrity  \n",
       "0            True  \n",
       "1            True  \n",
       "2            True  \n",
       "3            True  \n",
       "4            True  "
      ]
     },
     "execution_count": 14,
     "metadata": {},
     "output_type": "execute_result"
    }
   ],
   "source": [
    "true_news = pd.DataFrame(news[news['news_integrity'] == True])\n",
    "true_news = true_news.reset_index()\n",
    "true_news=true_news.drop(['index'],axis=1)\n",
    "true_news.head()"
   ]
  },
  {
   "cell_type": "code",
   "execution_count": 15,
   "metadata": {},
   "outputs": [
    {
     "data": {
      "text/plain": [
       "21417"
      ]
     },
     "execution_count": 15,
     "metadata": {},
     "output_type": "execute_result"
    }
   ],
   "source": [
    "true_news.title.count()"
   ]
  },
  {
   "cell_type": "markdown",
   "metadata": {},
   "source": [
    "-------------------------"
   ]
  },
  {
   "cell_type": "code",
   "execution_count": 16,
   "metadata": {},
   "outputs": [
    {
     "data": {
      "text/html": [
       "<div>\n",
       "<style scoped>\n",
       "    .dataframe tbody tr th:only-of-type {\n",
       "        vertical-align: middle;\n",
       "    }\n",
       "\n",
       "    .dataframe tbody tr th {\n",
       "        vertical-align: top;\n",
       "    }\n",
       "\n",
       "    .dataframe thead th {\n",
       "        text-align: right;\n",
       "    }\n",
       "</style>\n",
       "<table border=\"1\" class=\"dataframe\">\n",
       "  <thead>\n",
       "    <tr style=\"text-align: right;\">\n",
       "      <th></th>\n",
       "      <th>title</th>\n",
       "      <th>text</th>\n",
       "      <th>subject</th>\n",
       "      <th>news_integrity</th>\n",
       "    </tr>\n",
       "  </thead>\n",
       "  <tbody>\n",
       "    <tr>\n",
       "      <th>0</th>\n",
       "      <td>FLASHBACK: KING OBAMA COMMUTES SENTENCES OF 22...</td>\n",
       "      <td>Just making room for Hillary President Obama t...</td>\n",
       "      <td>politics</td>\n",
       "      <td>False</td>\n",
       "    </tr>\n",
       "    <tr>\n",
       "      <th>1</th>\n",
       "      <td>APPLE’S CEO SAYS RELIGIOUS FREEDOM LAWS ARE ‘D...</td>\n",
       "      <td>The gay mafia has a new corporate  Don. This i...</td>\n",
       "      <td>politics</td>\n",
       "      <td>False</td>\n",
       "    </tr>\n",
       "    <tr>\n",
       "      <th>2</th>\n",
       "      <td>WATCH DIRTY HARRY REID ON HIS LIE ABOUT ROMNEY...</td>\n",
       "      <td>In case you missed it Sen. Harry Reid (R-NV), ...</td>\n",
       "      <td>politics</td>\n",
       "      <td>False</td>\n",
       "    </tr>\n",
       "    <tr>\n",
       "      <th>3</th>\n",
       "      <td>OH NO! GUESS WHO FUNDED THE SHRINE TO TED KENNEDY</td>\n",
       "      <td>Nothing like political cronyism to make your s...</td>\n",
       "      <td>politics</td>\n",
       "      <td>False</td>\n",
       "    </tr>\n",
       "    <tr>\n",
       "      <th>4</th>\n",
       "      <td>BENGHAZI PANEL CALLS HILLARY TO TESTIFY UNDER ...</td>\n",
       "      <td>Does anyone really think Hillary Clinton will ...</td>\n",
       "      <td>politics</td>\n",
       "      <td>False</td>\n",
       "    </tr>\n",
       "  </tbody>\n",
       "</table>\n",
       "</div>"
      ],
      "text/plain": [
       "                                               title  \\\n",
       "0  FLASHBACK: KING OBAMA COMMUTES SENTENCES OF 22...   \n",
       "1  APPLE’S CEO SAYS RELIGIOUS FREEDOM LAWS ARE ‘D...   \n",
       "2  WATCH DIRTY HARRY REID ON HIS LIE ABOUT ROMNEY...   \n",
       "3  OH NO! GUESS WHO FUNDED THE SHRINE TO TED KENNEDY   \n",
       "4  BENGHAZI PANEL CALLS HILLARY TO TESTIFY UNDER ...   \n",
       "\n",
       "                                                text   subject  news_integrity  \n",
       "0  Just making room for Hillary President Obama t...  politics           False  \n",
       "1  The gay mafia has a new corporate  Don. This i...  politics           False  \n",
       "2  In case you missed it Sen. Harry Reid (R-NV), ...  politics           False  \n",
       "3  Nothing like political cronyism to make your s...  politics           False  \n",
       "4  Does anyone really think Hillary Clinton will ...  politics           False  "
      ]
     },
     "execution_count": 16,
     "metadata": {},
     "output_type": "execute_result"
    }
   ],
   "source": [
    "false_news = pd.DataFrame(news[news['news_integrity'] == False])\n",
    "false_news = false_news.reset_index()\n",
    "false_news = false_news.drop(['index'],axis=1)\n",
    "false_news.head()"
   ]
  },
  {
   "cell_type": "code",
   "execution_count": 17,
   "metadata": {},
   "outputs": [
    {
     "data": {
      "text/plain": [
       "23450"
      ]
     },
     "execution_count": 17,
     "metadata": {},
     "output_type": "execute_result"
    }
   ],
   "source": [
    "false_news.title.count()"
   ]
  },
  {
   "cell_type": "markdown",
   "metadata": {},
   "source": [
    "------------"
   ]
  },
  {
   "cell_type": "markdown",
   "metadata": {},
   "source": [
    "Shuffling data to increase Randomness"
   ]
  },
  {
   "cell_type": "code",
   "execution_count": 18,
   "metadata": {},
   "outputs": [],
   "source": [
    "from sklearn.utils import shuffle\n",
    "news = shuffle(news)\n",
    "news = news.reset_index(drop=True)"
   ]
  },
  {
   "cell_type": "code",
   "execution_count": 19,
   "metadata": {},
   "outputs": [],
   "source": [
    "news = news[['text', 'subject', 'news_integrity']]"
   ]
  },
  {
   "cell_type": "markdown",
   "metadata": {},
   "source": [
    "Function to remove stopwords, convert the text to lower case and remove punctuation"
   ]
  },
  {
   "cell_type": "code",
   "execution_count": 20,
   "metadata": {},
   "outputs": [],
   "source": [
    "from nltk.corpus import stopwords\n",
    "from nltk.tokenize import sent_tokenize\n",
    "from textblob import TextBlob\n",
    "from nltk.stem import WordNetLemmatizer\n",
    "lemmatizer = WordNetLemmatizer()\n",
    "import re\n",
    "\n",
    "stops = (stopwords.words('english'))\n",
    "def short(review_message):\n",
    "    review_message = review_message.lower()\n",
    "    review_message = review_message.split()\n",
    "    review_message = [w for w in review_message if not w in stops]\n",
    "    review_message = \" \".join(review_message)\n",
    "    review_message = re.sub('[^a-z]', ' ', review_message)\n",
    "    review_message = review_message.split()\n",
    "    review_message = [w for w in review_message if not w in stops]\n",
    "    review_message = [lemmatizer.lemmatize(w) for w in review_message]\n",
    "    return(' '.join(review_message))\n",
    "\n",
    "news['short_text'] = news['text'].apply(short)"
   ]
  },
  {
   "cell_type": "code",
   "execution_count": 21,
   "metadata": {},
   "outputs": [
    {
     "data": {
      "text/html": [
       "<div>\n",
       "<style scoped>\n",
       "    .dataframe tbody tr th:only-of-type {\n",
       "        vertical-align: middle;\n",
       "    }\n",
       "\n",
       "    .dataframe tbody tr th {\n",
       "        vertical-align: top;\n",
       "    }\n",
       "\n",
       "    .dataframe thead th {\n",
       "        text-align: right;\n",
       "    }\n",
       "</style>\n",
       "<table border=\"1\" class=\"dataframe\">\n",
       "  <thead>\n",
       "    <tr style=\"text-align: right;\">\n",
       "      <th></th>\n",
       "      <th>text</th>\n",
       "      <th>subject</th>\n",
       "      <th>news_integrity</th>\n",
       "      <th>short_text</th>\n",
       "    </tr>\n",
       "  </thead>\n",
       "  <tbody>\n",
       "    <tr>\n",
       "      <th>0</th>\n",
       "      <td>WASHINGTON (Reuters) - Some members of a White...</td>\n",
       "      <td>politicsNews</td>\n",
       "      <td>True</td>\n",
       "      <td>washington reuters member white house infrastr...</td>\n",
       "    </tr>\n",
       "    <tr>\n",
       "      <th>1</th>\n",
       "      <td>Two hypocrite climate change freaks decided to...</td>\n",
       "      <td>left-news</td>\n",
       "      <td>False</td>\n",
       "      <td>two hypocrite climate change freak decided pon...</td>\n",
       "    </tr>\n",
       "    <tr>\n",
       "      <th>2</th>\n",
       "      <td>NAIROBI (Reuters) - Kenya opposition leader Ra...</td>\n",
       "      <td>worldnews</td>\n",
       "      <td>True</td>\n",
       "      <td>nairobi reuters kenya opposition leader raila ...</td>\n",
       "    </tr>\n",
       "    <tr>\n",
       "      <th>3</th>\n",
       "      <td>Conform or pay the ultimate price Police seize...</td>\n",
       "      <td>politics</td>\n",
       "      <td>False</td>\n",
       "      <td>conform pay ultimate price police seized ten c...</td>\n",
       "    </tr>\n",
       "    <tr>\n",
       "      <th>4</th>\n",
       "      <td>JAKARTA (Reuters) - Indonesian President Joko ...</td>\n",
       "      <td>worldnews</td>\n",
       "      <td>True</td>\n",
       "      <td>jakarta reuters indonesian president joko wido...</td>\n",
       "    </tr>\n",
       "  </tbody>\n",
       "</table>\n",
       "</div>"
      ],
      "text/plain": [
       "                                                text       subject  \\\n",
       "0  WASHINGTON (Reuters) - Some members of a White...  politicsNews   \n",
       "1  Two hypocrite climate change freaks decided to...     left-news   \n",
       "2  NAIROBI (Reuters) - Kenya opposition leader Ra...     worldnews   \n",
       "3  Conform or pay the ultimate price Police seize...      politics   \n",
       "4  JAKARTA (Reuters) - Indonesian President Joko ...     worldnews   \n",
       "\n",
       "   news_integrity                                         short_text  \n",
       "0            True  washington reuters member white house infrastr...  \n",
       "1           False  two hypocrite climate change freak decided pon...  \n",
       "2            True  nairobi reuters kenya opposition leader raila ...  \n",
       "3           False  conform pay ultimate price police seized ten c...  \n",
       "4            True  jakarta reuters indonesian president joko wido...  "
      ]
     },
     "execution_count": 21,
     "metadata": {},
     "output_type": "execute_result"
    }
   ],
   "source": [
    "news.head()"
   ]
  },
  {
   "cell_type": "markdown",
   "metadata": {},
   "source": [
    "-------------------------"
   ]
  },
  {
   "cell_type": "markdown",
   "metadata": {},
   "source": [
    "Creating a function to plot a Confusion Matrix"
   ]
  },
  {
   "cell_type": "code",
   "execution_count": 22,
   "metadata": {},
   "outputs": [],
   "source": [
    "from sklearn import metrics\n",
    "import itertools\n",
    "def plot_confusion_matrix(cm, classes, normalize=False, title='Confusion matrix', cmap=plt.cm.Purples):\n",
    "    plt.imshow(cm, interpolation='nearest', cmap=cmap)\n",
    "    plt.title(title,fontsize = 18)\n",
    "    plt.colorbar()\n",
    "    tick_marks = np.arange(len(classes))\n",
    "    plt.xticks(tick_marks, classes, rotation=0, fontsize = 13)\n",
    "    plt.yticks(tick_marks, classes, fontsize = 13)\n",
    "    thresh = cm.max() / 2.\n",
    "    for i, j in itertools.product(range(cm.shape[0]), range(cm.shape[1])):\n",
    "        plt.text(j, i, cm[i, j],\n",
    "                 horizontalalignment=\"center\",\n",
    "                 color=\"white\" if cm[i, j] > thresh else \"black\",fontsize = 15)\n",
    "    plt.tight_layout()\n",
    "    plt.ylabel('True label',fontsize = 15)\n",
    "    plt.xlabel('Predicted label',fontsize = 15)"
   ]
  },
  {
   "cell_type": "code",
   "execution_count": 23,
   "metadata": {},
   "outputs": [],
   "source": [
    "X_train,X_test,y_train,y_test = train_test_split(news['short_text'], news.news_integrity, test_size=0.33, random_state=42)"
   ]
  },
  {
   "cell_type": "code",
   "execution_count": 24,
   "metadata": {},
   "outputs": [
    {
     "data": {
      "text/plain": [
       "'washington reuters member white house infrastructure advisory council resigned white house said tuesday day president donald trump response violence rally white nationalist virginia prompted business leader cultural figure quit panel protest trump last week disbanded two business advisory council several chief executive resigned protest remark blaming violence anti racism activist well white nationalist statement tuesday white house give reason resignation national infrastructure advisory council said panel met tuesday majority member specify many member quit confirm number member niac appointed previous administration submitted resignation statement said trump commenting aug rally organized neo nazi white nationalist charlottesville virginia woman killed car plowed group counter protester said last week fine people side trump dissolved american manufacturing council strategic policy forum aug sixteen member president committee art humanity also resigned friday protest'"
      ]
     },
     "execution_count": 24,
     "metadata": {},
     "output_type": "execute_result"
    }
   ],
   "source": [
    "X_test[0]"
   ]
  },
  {
   "cell_type": "markdown",
   "metadata": {},
   "source": [
    "--------------"
   ]
  },
  {
   "cell_type": "markdown",
   "metadata": {},
   "source": [
    "Logistic Regression"
   ]
  },
  {
   "cell_type": "code",
   "execution_count": 25,
   "metadata": {},
   "outputs": [
    {
     "name": "stdout",
     "output_type": "stream",
     "text": [
      "Accuracy: 98.49%\n"
     ]
    }
   ],
   "source": [
    "from sklearn.linear_model import LogisticRegression\n",
    "\n",
    "pipe = Pipeline([('vect', CountVectorizer()), ('tfidf', TfidfTransformer()), ('model', LogisticRegression())])\n",
    "\n",
    "lr_model = pipe.fit(X_train, y_train)\n",
    "\n",
    "lr_prediction = lr_model.predict(X_test)\n",
    "print(\"Accuracy: {}%\".format(round(accuracy_score(y_test, lr_prediction)*100,2)))"
   ]
  },
  {
   "cell_type": "code",
   "execution_count": 26,
   "metadata": {},
   "outputs": [],
   "source": [
    "#a = \"to be paid off by future generations, to finance tax cuts for corporations and the rich. This is one of the least ... fiscally responsible bills weve ever seen passed in the history of the House of Representatives. I think were going to be paying for this for many, many years to come, Crowley said. Republicans insist the tax package, the biggest U.S. tax overhaul in more than 30 years,  will boost the economy and job growth. House Speaker Paul Ryan, who also supported the tax bill, recently went further than Meadows, making clear in a radio interview that welfare or entitlement reform,as the party often calls it, would be a top Republican priority in 2018. In Republican parlance, entitlement programs mean food stamps, housing assistance, Medicare and Medicaid health insurance for the elderly, poor and disabled, as well as other programs created by Washington to assist the needy. Democrats seized on Ryans early December remarks, saying they showed Republicans would try to pay\"\n",
    "#a = [a]\n",
    "#b = lr_model.predict(a)\n",
    "#print(b)"
   ]
  },
  {
   "cell_type": "code",
   "execution_count": 27,
   "metadata": {},
   "outputs": [
    {
     "data": {
      "image/png": "[encoded data removed]",
      "text/plain": [
       "<Figure size 1080x504 with 2 Axes>"
      ]
     },
     "metadata": {},
     "output_type": "display_data"
    }
   ],
   "source": [
    "plt.figure(figsize=(15,7))\n",
    "cm = metrics.confusion_matrix(y_test, lr_prediction)\n",
    "plot_confusion_matrix(cm, classes=['Fake', 'Real'])"
   ]
  },
  {
   "cell_type": "markdown",
   "metadata": {},
   "source": [
    "----------------"
   ]
  },
  {
   "cell_type": "markdown",
   "metadata": {},
   "source": [
    "Decision Tree Classifier"
   ]
  },
  {
   "cell_type": "code",
   "execution_count": 28,
   "metadata": {},
   "outputs": [
    {
     "name": "stdout",
     "output_type": "stream",
     "text": [
      "Accuracy: 99.65%\n"
     ]
    }
   ],
   "source": [
    "from sklearn.tree import DecisionTreeClassifier\n",
    "pipe = Pipeline([('vect', CountVectorizer()), ('tfidf', TfidfTransformer()), \n",
    "                 ('model', DecisionTreeClassifier(criterion= 'entropy', max_depth = 20, splitter='best', random_state=42))])\n",
    "\n",
    "dt_model = pipe.fit(X_train, y_train)\n",
    "\n",
    "dt_prediction = dt_model.predict(X_test)\n",
    "print(\"Accuracy: {}%\".format(round(accuracy_score(y_test, dt_prediction)*100,2)))"
   ]
  },
  {
   "cell_type": "code",
   "execution_count": 29,
   "metadata": {},
   "outputs": [
    {
     "name": "stdout",
     "output_type": "stream",
     "text": [
      "[ True]\n"
     ]
    }
   ],
   "source": [
    "a = \"WASHINGTON (Reuters) - The head of a conservative Republican faction in the U.S. Congress, who voted this month for a huge expansion of the national debt to pay for tax cuts, called himself a fiscal conservative on Sunday and urged budget restraint in 2018. In keeping with a sharp pivot under way among Republicans, U.S. Representative Mark Meadows, speaking on CBS Face the Nation, drew a hard line on federal spending, which lawmakers are bracing to do battle over in January. When they return from the holidays on Wednesday, lawmakers will begin trying to pass a federal budget in a fight likely to be linked to other issues, such as immigration policy, even as the November congressional election campaigns approach in which Republicans will seek to keep control of Congress. President Donald Trump and his Republicans want a big budget increase in military spending, while Democrats also want proportional increases for non-defense discretionary spending on programs that support education, scientific research, infrastructure, public health and environmental protection. The (Trump) administration has already been willing to say: Were going to increase non-defense discretionary spending ... by about 7 percent\"\n",
    "a = [a]\n",
    "b = dt_model.predict(a)\n",
    "print(b)"
   ]
  },
  {
   "cell_type": "code",
   "execution_count": 30,
   "metadata": {},
   "outputs": [
    {
     "name": "stdout",
     "output_type": "stream",
     "text": [
      "[ True]\n"
     ]
    }
   ],
   "source": [
    "a = \"tunis reuters tunisia continue package painful economic policy prime minister youssef chahed said tuesday despite resistance labor union business association change raise tax put thousand work north african country pressure international monetary fund speed policy change help economy recover militant attack hurt vital tourism industry tunisia plan raise value added tax lay government worker part budget cut budget deficit government also proposed percent social security tax employee company federation company owner utica rejected proposal threatening shut company seek consensus go ahead reform needed revive economy retreat chahed told parliament start budget debate chahed also want freeze public sector hiring powerful union ugtt said accept branch education health needed recruitment beware anger tunisian ugtt situation continues rest party refuse share sacrifice ugtt head nourredine taboubi said tunisia praised democratic progress uprising toppled president zine el abidine ben ali successive government failed make change needed trim deficit create growth budget deficit fall percent gross domestic product percent expected tunisia hope raise gdp percent next year percent year\"\n",
    "a = [a]\n",
    "b = dt_model.predict(a)\n",
    "print(b)"
   ]
  },
  {
   "cell_type": "code",
   "execution_count": 31,
   "metadata": {},
   "outputs": [
    {
     "data": {
      "image/png": "[encoded data removed]",
      "text/plain": [
       "<Figure size 1080x504 with 2 Axes>"
      ]
     },
     "metadata": {},
     "output_type": "display_data"
    }
   ],
   "source": [
    "plt.figure(figsize=(15,7))\n",
    "cm = metrics.confusion_matrix(y_test, dt_prediction)\n",
    "plot_confusion_matrix(cm, classes=['Fake', 'Real'])"
   ]
  },
  {
   "cell_type": "markdown",
   "metadata": {},
   "source": [
    "------------------------"
   ]
  },
  {
   "cell_type": "markdown",
   "metadata": {},
   "source": [
    "Random Forest Classifier"
   ]
  },
  {
   "cell_type": "code",
   "execution_count": 32,
   "metadata": {},
   "outputs": [
    {
     "name": "stdout",
     "output_type": "stream",
     "text": [
      "Accuracy: 98.92%\n"
     ]
    }
   ],
   "source": [
    "from sklearn.ensemble import RandomForestClassifier\n",
    "pipe = Pipeline([('vect', CountVectorizer()),\n",
    "                 ('tfidf', TfidfTransformer()),\n",
    "                 ('model', RandomForestClassifier(n_estimators=50, criterion=\"entropy\"))])\n",
    "rf_model = pipe.fit(X_train, y_train)\n",
    "rf_prediction = rf_model.predict(X_test)\n",
    "print(\"Accuracy: {}%\".format(round(accuracy_score(y_test, rf_prediction)*100,2)))"
   ]
  },
  {
   "cell_type": "code",
   "execution_count": 33,
   "metadata": {},
   "outputs": [
    {
     "data": {
      "image/png": "[encoded data removed]",
      "text/plain": [
       "<Figure size 1080x504 with 2 Axes>"
      ]
     },
     "metadata": {},
     "output_type": "display_data"
    }
   ],
   "source": [
    "plt.figure(figsize=(15,7))\n",
    "cm = metrics.confusion_matrix(y_test, rf_prediction)\n",
    "plot_confusion_matrix(cm, classes=['Fake', 'Real'])"
   ]
  },
  {
   "cell_type": "markdown",
   "metadata": {},
   "source": [
    "------------------------"
   ]
  },
  {
   "cell_type": "code",
   "execution_count": 34,
   "metadata": {},
   "outputs": [
    {
     "name": "stdout",
     "output_type": "stream",
     "text": [
      "Logistic Regression Accuracy : 98.49%\n",
      "Decision Tree Accuracy         : 99.65%\n",
      "Random Forest Accuracy      : 98.92%\n"
     ]
    }
   ],
   "source": [
    "print(\"Logistic Regression Accuracy : {}%\".format(round(accuracy_score(y_test, lr_prediction)*100,2)))\n",
    "print(\"Decision Tree Accuracy         : {}%\".format(round(accuracy_score(y_test, dt_prediction)*100,2)))\n",
    "print(\"Random Forest Accuracy      : {}%\".format(round(accuracy_score(y_test, rf_prediction)*100,2)))"
   ]
  }
 ],
 "metadata": {
  "kernelspec": {
   "display_name": "Python 3",
   "language": "python",
   "name": "python3"
  },
  "language_info": {
   "codemirror_mode": {
    "name": "ipython",
    "version": 3
   },
   "file_extension": ".py",
   "mimetype": "text/x-python",
   "name": "python",
   "nbconvert_exporter": "python",
   "pygments_lexer": "ipython3",
   "version": "3.7.6"
  }
 },
 "nbformat": 4,
 "nbformat_minor": 4
}
